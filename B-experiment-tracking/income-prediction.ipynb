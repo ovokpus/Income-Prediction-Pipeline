{
 "cells": [
  {
   "cell_type": "code",
   "execution_count": 1,
   "id": "980b6cb9-e6c8-40ef-9874-0414d8e68663",
   "metadata": {},
   "outputs": [
    {
     "name": "stderr",
     "output_type": "stream",
     "text": [
      "/usr/lib/python3/dist-packages/pkg_resources/__init__.py:116: PkgResourcesDeprecationWarning: 0.1.43ubuntu1 is an invalid version and will not be supported in a future release\n",
      "  warnings.warn(\n",
      "/usr/lib/python3/dist-packages/pkg_resources/__init__.py:116: PkgResourcesDeprecationWarning: 1.1build1 is an invalid version and will not be supported in a future release\n",
      "  warnings.warn(\n"
     ]
    }
   ],
   "source": [
    "import numpy as np\n",
    "import pandas as pd\n",
    "import matplotlib.pyplot as plt\n",
    "import seaborn as sns\n",
    "\n",
    "from sklearn.preprocessing import StandardScaler\n",
    "from sklearn.model_selection import train_test_split, cross_val_score\n",
    "\n",
    "from sklearn.utils import resample\n",
    "from imblearn.over_sampling import SMOTE\n",
    "\n",
    "from sklearn.feature_extraction import DictVectorizer\n",
    "from sklearn.linear_model import LogisticRegression\n",
    "from sklearn.ensemble import RandomForestClassifier, GradientBoostingClassifier, ExtraTreesClassifier\n",
    "\n",
    "import xgboost as xgb\n",
    "from hyperopt import fmin, tpe, hp, STATUS_OK, Trials\n",
    "from hyperopt.pyll import scope\n",
    "\n",
    "from sklearn.metrics import roc_auc_score, f1_score\n",
    "\n",
    "import random\n",
    "import pickle\n",
    "import os\n",
    "\n",
    "%matplotlib inline"
   ]
  },
  {
   "cell_type": "code",
   "execution_count": 2,
   "id": "2b1a78c6-af15-4292-826b-14b1d0b748c4",
   "metadata": {},
   "outputs": [
    {
     "name": "stderr",
     "output_type": "stream",
     "text": [
      "2022/08/30 05:00:38 INFO mlflow.store.db.utils: Creating initial MLflow database tables...\n",
      "2022/08/30 05:00:38 INFO mlflow.store.db.utils: Updating database tables\n",
      "INFO  [alembic.runtime.migration] Context impl SQLiteImpl.\n",
      "INFO  [alembic.runtime.migration] Will assume non-transactional DDL.\n",
      "INFO  [alembic.runtime.migration] Running upgrade  -> 451aebb31d03, add metric step\n",
      "INFO  [alembic.runtime.migration] Running upgrade 451aebb31d03 -> 90e64c465722, migrate user column to tags\n",
      "INFO  [alembic.runtime.migration] Running upgrade 90e64c465722 -> 181f10493468, allow nulls for metric values\n",
      "INFO  [alembic.runtime.migration] Running upgrade 181f10493468 -> df50e92ffc5e, Add Experiment Tags Table\n",
      "INFO  [alembic.runtime.migration] Running upgrade df50e92ffc5e -> 7ac759974ad8, Update run tags with larger limit\n",
      "INFO  [alembic.runtime.migration] Running upgrade 7ac759974ad8 -> 89d4b8295536, create latest metrics table\n",
      "INFO  [89d4b8295536_create_latest_metrics_table_py] Migration complete!\n",
      "INFO  [alembic.runtime.migration] Running upgrade 89d4b8295536 -> 2b4d017a5e9b, add model registry tables to db\n",
      "INFO  [2b4d017a5e9b_add_model_registry_tables_to_db_py] Adding registered_models and model_versions tables to database.\n",
      "INFO  [2b4d017a5e9b_add_model_registry_tables_to_db_py] Migration complete!\n",
      "INFO  [alembic.runtime.migration] Running upgrade 2b4d017a5e9b -> cfd24bdc0731, Update run status constraint with killed\n",
      "INFO  [alembic.runtime.migration] Running upgrade cfd24bdc0731 -> 0a8213491aaa, drop_duplicate_killed_constraint\n",
      "INFO  [alembic.runtime.migration] Running upgrade 0a8213491aaa -> 728d730b5ebd, add registered model tags table\n",
      "INFO  [alembic.runtime.migration] Running upgrade 728d730b5ebd -> 27a6a02d2cf1, add model version tags table\n",
      "INFO  [alembic.runtime.migration] Running upgrade 27a6a02d2cf1 -> 84291f40a231, add run_link to model_version\n",
      "INFO  [alembic.runtime.migration] Running upgrade 84291f40a231 -> a8c4a736bde6, allow nulls for run_id\n",
      "INFO  [alembic.runtime.migration] Running upgrade a8c4a736bde6 -> 39d1c3be5f05, add_is_nan_constraint_for_metrics_tables_if_necessary\n",
      "INFO  [alembic.runtime.migration] Running upgrade 39d1c3be5f05 -> c48cb773bb87, reset_default_value_for_is_nan_in_metrics_table_for_mysql\n",
      "INFO  [alembic.runtime.migration] Running upgrade c48cb773bb87 -> bd07f7e963c5, create index on run_uuid\n",
      "INFO  [alembic.runtime.migration] Running upgrade bd07f7e963c5 -> 0c779009ac13, add deleted_time field to runs table\n",
      "INFO  [alembic.runtime.migration] Running upgrade 0c779009ac13 -> cc1f77228345, change param value length to 500\n",
      "INFO  [alembic.runtime.migration] Context impl SQLiteImpl.\n",
      "INFO  [alembic.runtime.migration] Will assume non-transactional DDL.\n",
      "2022/08/30 05:00:38 INFO mlflow.tracking.fluent: Experiment with name 'prediction-003' does not exist. Creating a new experiment.\n"
     ]
    },
    {
     "data": {
      "text/plain": [
       "<Experiment: artifact_location='./mlruns/1', experiment_id='1', lifecycle_stage='active', name='prediction-003', tags={}>"
      ]
     },
     "execution_count": 2,
     "metadata": {},
     "output_type": "execute_result"
    }
   ],
   "source": [
    "import mlflow\n",
    "\n",
    "mlflow.set_tracking_uri(\"sqlite:///mlflow.db\")\n",
    "mlflow.set_experiment(\"prediction-003\")"
   ]
  },
  {
   "cell_type": "code",
   "execution_count": null,
   "id": "f9ed68db-e3a8-45ab-b9c1-abcea5b590b9",
   "metadata": {},
   "outputs": [],
   "source": [
    "def process_dataframe(filepath):    \n",
    "    df = pd.read_csv(filepath)\n",
    "    \n",
    "    df.drop(['nativeCountry'], axis=1, inplace=True)\n",
    "    \n",
    "    target = 'incomeTarget'\n",
    "\n",
    "    transformed_target = []\n",
    "\n",
    "    for _, value in df['incomeTarget'].iteritems():\n",
    "        if value == ' <=50K':\n",
    "            transformed_target.append(0)\n",
    "        else:\n",
    "            transformed_target.append(1)\n",
    "    df['incomeTarget'] = transformed_target\n",
    "    \n",
    "    y = df[target]\n",
    "    X = df.drop('incomeTarget', axis=1, inplace=True)\n",
    "    X = pd.get_dummies(df)\n",
    "\n",
    "    # Upsample using SMOTE\n",
    "    sm = SMOTE(random_state=12)\n",
    "    X_train_sm, y_train_sm = sm.fit_resample(X, y)\n",
    "\n",
    "    \n",
    "    # df_new = pd.DataFrame(X_upsampled, columns=X.columns)\n",
    "    df_new = pd.DataFrame(X_train_sm, columns=X.columns)\n",
    "    \n",
    "    return df_new, y_train_sm"
   ]
  },
  {
   "cell_type": "code",
   "execution_count": null,
   "id": "09a2dafe-fd98-4dd7-86f5-62ed42db9f81",
   "metadata": {},
   "outputs": [],
   "source": [
    "X_train, y_train = process_dataframe('../data/adult-train.csv')\n",
    "X_val, y_val = process_dataframe('../data/adult-val.csv')\n",
    "\n",
    "len(X_train), len(y_train), len(X_val), len(y_val)"
   ]
  },
  {
   "cell_type": "code",
   "execution_count": null,
   "id": "351e99c9-5f57-41d7-97f6-96b002daa3e1",
   "metadata": {},
   "outputs": [],
   "source": [
    "scaler = StandardScaler()\n",
    "X_train_scaled = scaler.fit_transform(X_train)\n",
    "X_train_df = pd.DataFrame(X_train_scaled, columns = X_train.columns)\n",
    "\n",
    "X_val_scaled = scaler.transform(X_val)\n",
    "X_val_df = pd.DataFrame(X_val_scaled, columns = X_val.columns)"
   ]
  },
  {
   "cell_type": "code",
   "execution_count": null,
   "id": "53d4abb7-3ad9-450b-9654-ef6a491b7ee0",
   "metadata": {},
   "outputs": [],
   "source": [
    "dv = DictVectorizer()\n",
    "\n",
    "train_dicts = X_train.to_dict(orient='records')\n",
    "X_train = dv.fit_transform(train_dicts)\n",
    "\n",
    "val_dicts = X_val.to_dict(orient='records')\n",
    "X_val = dv.transform(val_dicts)"
   ]
  },
  {
   "cell_type": "code",
   "execution_count": null,
   "id": "b1dbff7a-d138-4376-988b-5763def73aef",
   "metadata": {},
   "outputs": [],
   "source": [
    "logreg = LogisticRegression(max_iter=500)\n",
    "logreg.fit(X_train, y_train)\n",
    "\n",
    "y_pred = logreg.predict(X_val)"
   ]
  },
  {
   "cell_type": "code",
   "execution_count": null,
   "id": "16a80f99-f3a6-4683-8327-5134b70758bd",
   "metadata": {},
   "outputs": [],
   "source": [
    "os.makedirs('models/', exist_ok=True)\n",
    "\n",
    "with open('models/logreg.bin', 'wb') as f_out:\n",
    "    pickle.dump((dv, logreg), f_out)"
   ]
  },
  {
   "cell_type": "code",
   "execution_count": null,
   "id": "2352c610-11d2-46b2-b2f0-bced9c284dce",
   "metadata": {},
   "outputs": [],
   "source": [
    "with mlflow.start_run():\n",
    "    mlflow.set_tag(\"developer\", \"enchristos\")\n",
    "    \n",
    "    mlflow.log_param(\"train-data-path\", \"../data/adult-train.csv\")\n",
    "    mlflow.log_param(\"valid-data-path\", \"../data/adult-test.csv\")\n",
    "    \n",
    "    max_iter = 500\n",
    "    mlflow.log_param(\"max_iter\", max_iter)\n",
    "    logreg = LogisticRegression(max_iter=max_iter)\n",
    "    logreg.fit(X_train, y_train)\n",
    "    \n",
    "    y_pred = logreg.predict(X_val)\n",
    "    auc = roc_auc_score(y_val, y_pred)\n",
    "    f1 = f1_score(y_val, y_pred)\n",
    "\n",
    "    mlflow.log_metric(\"auc\", auc)\n",
    "    mlflow.log_metric(\"fi_score\", f1)\n",
    "    mlflow.log_metric(\"loss_metric\", 1-f1)\n",
    "    \n",
    "    mlflow.log_artifact(local_path=\"models/logreg.bin\", artifact_path=\"models_pickle\")"
   ]
  },
  {
   "cell_type": "code",
   "execution_count": null,
   "id": "7df8bd51-7f02-4791-8b97-29be658dff8c",
   "metadata": {},
   "outputs": [],
   "source": [
    "with mlflow.start_run():\n",
    "    mlflow.set_tag(\"developer\", \"enchristos\")\n",
    "    \n",
    "    mlflow.log_param(\"train-data-path\", \"../data/adult-train.csv\")\n",
    "    mlflow.log_param(\"valid-data-path\", \"../data/adult-test.csv\")\n",
    "    \n",
    "    learning_rate = 0.2\n",
    "    mlflow.log_param(\"learning_rate\", learning_rate)\n",
    "    gbc = GradientBoostingClassifier(learning_rate=learning_rate)\n",
    "    gbc.fit(X_train, y_train)\n",
    "    \n",
    "    y_pred = gbc.predict(X_val)\n",
    "    \n",
    "    auc = roc_auc_score(y_val, y_pred)\n",
    "    f1 = f1_score(y_val, y_pred)\n",
    "    \n",
    "    mlflow.log_metric(\"auc\", auc)\n",
    "    mlflow.log_metric(\"fi_score\", f1)\n",
    "    mlflow.log_metric(\"loss_metric\", 1-f1)\n",
    "    \n",
    "    with open('models/gbc.bin', 'wb') as f_out:\n",
    "        pickle.dump((dv, gbc), f_out)\n",
    "    \n",
    "    mlflow.log_artifact(local_path=\"models/gbc.bin\", artifact_path=\"models_pickle\")"
   ]
  },
  {
   "cell_type": "code",
   "execution_count": null,
   "id": "89006a8b-0da5-453a-ad76-62a1cb97bd92",
   "metadata": {},
   "outputs": [],
   "source": [
    "with mlflow.start_run():\n",
    "    mlflow.set_tag(\"developer\", \"enchristos\")\n",
    "    \n",
    "    mlflow.log_param(\"train-data-path\", \"../data/adult-train.csv\")\n",
    "    mlflow.log_param(\"valid-data-path\", \"../data/adult-test.csv\")\n",
    "    \n",
    "    n_estimators = 100\n",
    "    mlflow.log_param(\"n_estimators\", n_estimators)\n",
    "    rfc = RandomForestClassifier(n_estimators=n_estimators)\n",
    "    rfc.fit(X_train, y_train)\n",
    "    \n",
    "    y_pred = rfc.predict(X_val)\n",
    "    auc = roc_auc_score(y_val, y_pred)\n",
    "    f1 = f1_score(y_val, y_pred)\n",
    "    mlflow.log_metric(\"auc\", auc)\n",
    "    mlflow.log_metric(\"fi_score\", f1)\n",
    "    mlflow.log_metric(\"loss_metric\", 1-f1)\n",
    "    \n",
    "    with open('models/rfc.bin', 'wb') as f_out:\n",
    "        pickle.dump((dv, gbc), f_out)\n",
    "    \n",
    "    mlflow.log_artifact(local_path=\"models/rfc.bin\", artifact_path=\"models_pickle\")"
   ]
  },
  {
   "cell_type": "code",
   "execution_count": null,
   "id": "4923b141-2b74-4156-afa8-8d20063ee673",
   "metadata": {},
   "outputs": [],
   "source": [
    "def objective(params):\n",
    "    with mlflow.start_run():\n",
    "        mlflow.set_tag(\"model\", \"XGBClassifier\")\n",
    "        mlflow.set_tag(\"developer\", \"enchristos\")\n",
    "        mlflow.log_params(params)\n",
    "        booster = xgb.XGBClassifier(\n",
    "            n_estimators = params['n_estimators'],\n",
    "            max_depth = int(params['max_depth']),\n",
    "            learning_rate = params['learning_rate'],\n",
    "            gamma = params['gamma'],\n",
    "            min_child_weight = params['min_child_weight'],\n",
    "            subsample = params['subsample'],\n",
    "            colsample_bytree = params['colsample_bytree'],\n",
    "            random_state = params['seed']\n",
    "        )\n",
    "        \n",
    "        booster.fit(X_train, y_train)\n",
    "        \n",
    "        y_pred = booster.predict(X_val)\n",
    "        auc = roc_auc_score(y_val, y_pred)\n",
    "        f1 = f1_score(y_val, y_pred)\n",
    "        mlflow.log_metric(\"auc\", auc)\n",
    "        mlflow.log_metric(\"fi_score\", f1)\n",
    "        mlflow.log_metric(\"loss_metric\", 1-f1)\n",
    "\n",
    "    return {'loss': 1-f1, 'status': STATUS_OK}"
   ]
  },
  {
   "cell_type": "code",
   "execution_count": null,
   "id": "2e609c09-b61c-44a1-bdb0-ff3d64121d1f",
   "metadata": {},
   "outputs": [],
   "source": [
    "search_space = {\n",
    "    'max_depth' : scope.int(hp.quniform('max_depth', 4, 10, 0.1)),\n",
    "    'learning_rate' : hp.quniform('learning_rate', 0.01, 0.5, 0.01),\n",
    "    'n_estimators' : hp.choice('n_estimators', range(0, 50, 1)),\n",
    "    'gamma' : hp.quniform('gamma', 0.01, 0.50, 0.01),\n",
    "    'min_child_weight' : hp.quniform('min_child_weight', 0, 10, 0.1),\n",
    "    'subsample' : hp.quniform('subsample', 0.1, 1, 0.01),\n",
    "    'colsample_bytree' : hp.quniform('colsample_bytree', 0.1, 1.0, 0.01),\n",
    "    'seed': 42\n",
    "}\n",
    "\n",
    "\n",
    "best_result = fmin(\n",
    "    fn=objective,\n",
    "    space=search_space,\n",
    "    algo=tpe.suggest,\n",
    "    max_evals=500,\n",
    "    trials=Trials()\n",
    ")"
   ]
  },
  {
   "cell_type": "code",
   "execution_count": null,
   "id": "9c356137-e3e0-401a-bf29-3206e6453f6e",
   "metadata": {},
   "outputs": [],
   "source": [
    "best_result"
   ]
  },
  {
   "cell_type": "code",
   "execution_count": null,
   "id": "1b23bd9a-152f-4f32-8003-5627d253997d",
   "metadata": {},
   "outputs": [],
   "source": [
    "with mlflow.start_run():\n",
    "    \n",
    "    best_params = {\n",
    "         'colsample_bytree': 0.32,\n",
    "         'gamma': 0.48,\n",
    "         'learning_rate': 0.32,\n",
    "         'max_depth': 7.600000000000005,\n",
    "         'min_child_weight': 4.2,\n",
    "         'n_estimators': 45,\n",
    "         'subsample': 0.96,\n",
    "         'seed': 42\n",
    "    }\n",
    "\n",
    "    mlflow.log_params(best_params)\n",
    "\n",
    "    booster = xgb.XGBClassifier(\n",
    "            n_estimators = best_params['n_estimators'],\n",
    "            max_depth = int(best_params['max_depth']),\n",
    "            learning_rate = best_params['learning_rate'],\n",
    "            gamma = best_params['gamma'],\n",
    "            min_child_weight = best_params['min_child_weight'],\n",
    "            subsample = best_params['subsample'],\n",
    "            colsample_bytree = best_params['colsample_bytree'],\n",
    "            random_state = best_params['seed']\n",
    "        )\n",
    "        \n",
    "    booster.fit(X_train, y_train)\n",
    "        \n",
    "    y_pred = booster.predict(X_val)\n",
    "    auc = roc_auc_score(y_val, y_pred)\n",
    "    f1 = f1_score(y_val, y_pred)\n",
    "    mlflow.log_metric(\"auc\", auc)\n",
    "    mlflow.log_metric(\"fi_score\", f1)\n",
    "    mlflow.log_metric(\"loss_metric\", 1-f1)\n",
    "\n",
    "    with open(\"models/preprocessor.b\", \"wb\") as f_out:\n",
    "        pickle.dump(dv, f_out)\n",
    "        \n",
    "    mlflow.log_artifact(\"models/preprocessor.b\", artifact_path=\"preprocessor\")\n",
    "\n",
    "    mlflow.xgboost.log_model(booster, artifact_path=\"models_mlflow\")"
   ]
  },
  {
   "cell_type": "code",
   "execution_count": null,
   "id": "81cd5f9d-1386-486e-89a0-1768516ae52e",
   "metadata": {},
   "outputs": [],
   "source": [
    "mlflow.sklearn.autolog()\n",
    "\n",
    "for model_class in (RandomForestClassifier, GradientBoostingClassifier, ExtraTreesClassifier, xgb.XGBClassifier):\n",
    "    with mlflow.start_run():\n",
    "        mlflow.set_tag(\"developer\", \"enchristos\")\n",
    "        mlflow.log_param(\"train-data-path\", \"../data/adult-train.csv\")\n",
    "        mlflow.log_param(\"valid-data-path\", \"../data/adult-test.csv\")\n",
    "        \n",
    "        mlflow.log_artifact(\"models/preprocessor.b\", artifact_path=\"preprocessor\")\n",
    "        \n",
    "        mlmodel = model_class()\n",
    "        mlmodel.fit(X_train, y_train)\n",
    "        \n",
    "        y_pred = mlmodel.predict(X_val)\n",
    "        auc = roc_auc_score(y_val, y_pred)\n",
    "        f1 = f1_score(y_val, y_pred)\n",
    "        mlflow.log_metric(\"auc\", auc)\n",
    "        mlflow.log_metric(\"fi_score\", f1)\n",
    "        mlflow.log_metric(\"loss_metric\", 1-f1)"
   ]
  },
  {
   "cell_type": "code",
   "execution_count": 3,
   "id": "70ca3051-3ddf-4f5a-907b-87c3a721448c",
   "metadata": {},
   "outputs": [
    {
     "data": {
      "text/plain": [
       "'./mlruns/1/f676112f1f02450db694fc733ec3cbc9/artifacts'"
      ]
     },
     "execution_count": 3,
     "metadata": {},
     "output_type": "execute_result"
    }
   ],
   "source": [
    "mlflow.get_artifact_uri()"
   ]
  },
  {
   "cell_type": "code",
   "execution_count": null,
   "id": "e974d2b2-b954-41a9-b804-10626b64d59a",
   "metadata": {},
   "outputs": [],
   "source": []
  }
 ],
 "metadata": {
  "kernelspec": {
   "display_name": "Python 3 (ipykernel)",
   "language": "python",
   "name": "python3"
  },
  "language_info": {
   "codemirror_mode": {
    "name": "ipython",
    "version": 3
   },
   "file_extension": ".py",
   "mimetype": "text/x-python",
   "name": "python",
   "nbconvert_exporter": "python",
   "pygments_lexer": "ipython3",
   "version": "3.10.4"
  }
 },
 "nbformat": 4,
 "nbformat_minor": 5
}
