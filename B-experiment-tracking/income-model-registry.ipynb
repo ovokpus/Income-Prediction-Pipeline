{
 "cells": [
  {
   "cell_type": "code",
   "execution_count": 1,
   "id": "22f61fd0-1fde-422d-b99a-44b0cf794871",
   "metadata": {},
   "outputs": [],
   "source": [
    "import mlflow\n",
    "from mlflow.tracking import MlflowClient\n",
    "from mlflow.entities import ViewType\n",
    "from datetime import datetime\n",
    "\n",
    "from sklearn.utils import resample\n",
    "from imblearn.over_sampling import SMOTE\n",
    "from sklearn.feature_extraction import DictVectorizer\n",
    "from sklearn.preprocessing import StandardScaler\n",
    "from sklearn.metrics import roc_auc_score, log_loss, f1_score\n",
    "import pandas as pd\n",
    "import numpy as np\n",
    "\n",
    "import pickle\n",
    "import os\n",
    "\n",
    "MLFLOW_TRACKING_URI = \"sqlite:///mlflow.db\"\n",
    "mlflow.set_tracking_uri(MLFLOW_TRACKING_URI)"
   ]
  },
  {
   "cell_type": "code",
   "execution_count": 2,
   "id": "aa707f17-e6d8-42a8-bd95-3aebec9276bf",
   "metadata": {},
   "outputs": [
    {
     "data": {
      "text/plain": [
       "[<Experiment: artifact_location='./mlruns/0', experiment_id='0', lifecycle_stage='active', name='Default', tags={}>,\n",
       " <Experiment: artifact_location='./mlruns/1', experiment_id='1', lifecycle_stage='active', name='prediction-001', tags={}>,\n",
       " <Experiment: artifact_location='./mlruns/2', experiment_id='2', lifecycle_stage='active', name='prediction-002', tags={}>,\n",
       " <Experiment: artifact_location='./mlruns/5', experiment_id='5', lifecycle_stage='active', name='prediction-003', tags={}>]"
      ]
     },
     "execution_count": 2,
     "metadata": {},
     "output_type": "execute_result"
    }
   ],
   "source": [
    "client = MlflowClient(tracking_uri=MLFLOW_TRACKING_URI)\n",
    "\n",
    "client.list_experiments()"
   ]
  },
  {
   "cell_type": "code",
   "execution_count": 4,
   "id": "0507a8bf-4331-44d4-acd2-537b072f3dec",
   "metadata": {},
   "outputs": [
    {
     "data": {
      "text/plain": [
       "'6'"
      ]
     },
     "execution_count": 4,
     "metadata": {},
     "output_type": "execute_result"
    }
   ],
   "source": [
    "client.create_experiment(name=\"registry\")"
   ]
  },
  {
   "cell_type": "code",
   "execution_count": 5,
   "id": "5fd553d3-9818-4b30-878e-423efa665971",
   "metadata": {},
   "outputs": [],
   "source": [
    "runs = client.search_runs(\n",
    "    experiment_ids='5', # prediction-003\n",
    "    filter_string=\"metrics.loss_metric < 0.090\",\n",
    "    run_view_type=ViewType.ACTIVE_ONLY,\n",
    "    max_results=10,\n",
    "    order_by=[\"metrics.loss_metric ASC\"]\n",
    ")"
   ]
  },
  {
   "cell_type": "code",
   "execution_count": 6,
   "id": "5aafc709-cee9-44f8-b671-0b5d167a118f",
   "metadata": {},
   "outputs": [
    {
     "data": {
      "text/plain": [
       "'c04aab12c0ae4c5985025ebbe908ac75'"
      ]
     },
     "execution_count": 6,
     "metadata": {},
     "output_type": "execute_result"
    }
   ],
   "source": [
    "runs[0].info.run_id"
   ]
  },
  {
   "cell_type": "code",
   "execution_count": 7,
   "id": "e8e63928-0fe9-489e-8d0c-4cbb5215e786",
   "metadata": {},
   "outputs": [
    {
     "name": "stdout",
     "output_type": "stream",
     "text": [
      "run id: c04aab12c0ae4c5985025ebbe908ac75, loss_metric: 0.0852\n",
      "run id: f38107682ffd4200a5822e6bceaa0ff5, loss_metric: 0.0852\n",
      "run id: 4830e57742c5484797cfc0fce6b93d60, loss_metric: 0.0852\n",
      "run id: da140e2116104b3d834c69ecff426976, loss_metric: 0.0852\n",
      "run id: 163f2d4fb5bd41499a77b287e39dc8f1, loss_metric: 0.0855\n",
      "run id: 07fea5af56624531a5f31e82b3b641f5, loss_metric: 0.0855\n",
      "run id: 800c92eb1fff4ea2ba06c36615bfb6c7, loss_metric: 0.0856\n",
      "run id: f913690687a04a4a93c4bdefa50dc12e, loss_metric: 0.0857\n",
      "run id: 73bf7e1c379749b0addab61c1459f97b, loss_metric: 0.0860\n",
      "run id: cad786ee565c45e5bb529ec8d1951404, loss_metric: 0.0861\n"
     ]
    }
   ],
   "source": [
    "for run in runs:\n",
    "    print(f\"run id: {run.info.run_id}, loss_metric: {run.data.metrics['loss_metric']:.4f}\")"
   ]
  },
  {
   "cell_type": "code",
   "execution_count": 29,
   "id": "910dbfc0-6fa1-4a4b-b911-25bae0b8e165",
   "metadata": {},
   "outputs": [
    {
     "data": {
      "text/plain": [
       "{'colsample_bytree': '0.32',\n",
       " 'gamma': '0.48',\n",
       " 'learning_rate': '0.32',\n",
       " 'max_depth': '7.600000000000005',\n",
       " 'min_child_weight': '4.2',\n",
       " 'n_estimators': '45',\n",
       " 'subsample': '0.96',\n",
       " 'seed': '42'}"
      ]
     },
     "execution_count": 29,
     "metadata": {},
     "output_type": "execute_result"
    }
   ],
   "source": [
    "runs[0].data.params"
   ]
  },
  {
   "cell_type": "code",
   "execution_count": 30,
   "id": "b1e15e86-e4ab-4e58-a662-7753564b51ab",
   "metadata": {},
   "outputs": [],
   "source": [
    "run_id = \"c04aab12c0ae4c5985025ebbe908ac75\"\n",
    "model_uri = f\"runs:/{run_id}/models_mlflow\""
   ]
  },
  {
   "cell_type": "code",
   "execution_count": 31,
   "id": "d35e68c0-db05-409a-b610-9eb07158842f",
   "metadata": {},
   "outputs": [
    {
     "name": "stderr",
     "output_type": "stream",
     "text": [
      "Registered model 'model2' already exists. Creating a new version of this model...\n",
      "2022/08/10 20:22:34 INFO mlflow.tracking._model_registry.client: Waiting up to 300 seconds for model version to finish creation.                     Model name: model2, version 2\n",
      "Created version '2' of model 'model2'.\n"
     ]
    },
    {
     "data": {
      "text/plain": [
       "<ModelVersion: creation_timestamp=1660184554770, current_stage='None', description=None, last_updated_timestamp=1660184554770, name='model2', run_id='c04aab12c0ae4c5985025ebbe908ac75', run_link=None, source='./mlruns/5/c04aab12c0ae4c5985025ebbe908ac75/artifacts/models_mlflow', status='READY', status_message=None, tags={}, user_id=None, version=2>"
      ]
     },
     "execution_count": 31,
     "metadata": {},
     "output_type": "execute_result"
    }
   ],
   "source": [
    "mlflow.register_model(model_uri=model_uri, name=\"model2\")"
   ]
  },
  {
   "cell_type": "code",
   "execution_count": 32,
   "id": "97931af2-67ff-4ad5-8c79-6dc6d0d11bd0",
   "metadata": {},
   "outputs": [
    {
     "data": {
      "text/plain": [
       "'runs:/c04aab12c0ae4c5985025ebbe908ac75/models_mlflow'"
      ]
     },
     "execution_count": 32,
     "metadata": {},
     "output_type": "execute_result"
    }
   ],
   "source": [
    "model_uri"
   ]
  },
  {
   "cell_type": "markdown",
   "id": "3b2e1b80-8a4b-4bb6-8e0c-a82d26b6c7b1",
   "metadata": {},
   "source": [
    "## Transitioning a model"
   ]
  },
  {
   "cell_type": "code",
   "execution_count": 33,
   "id": "2d21752f-9b33-4d36-8180-0702fbc8b440",
   "metadata": {},
   "outputs": [
    {
     "name": "stdout",
     "output_type": "stream",
     "text": [
      "version: 1, stage: Staging\n",
      "version: 2, stage: None\n"
     ]
    }
   ],
   "source": [
    "model_name = \"model2\"\n",
    "latest_versions = client.get_latest_versions(name=model_name)\n",
    "\n",
    "for version in latest_versions:\n",
    "    print(f\"version: {version.version}, stage: {version.current_stage}\")"
   ]
  },
  {
   "cell_type": "code",
   "execution_count": 34,
   "id": "b0cf9144-1ebb-4523-a64a-7c080365d40a",
   "metadata": {},
   "outputs": [
    {
     "data": {
      "text/plain": [
       "<ModelVersion: creation_timestamp=1660184554770, current_stage='Staging', description=None, last_updated_timestamp=1660184570743, name='model2', run_id='c04aab12c0ae4c5985025ebbe908ac75', run_link=None, source='./mlruns/5/c04aab12c0ae4c5985025ebbe908ac75/artifacts/models_mlflow', status='READY', status_message=None, tags={}, user_id=None, version=2>"
      ]
     },
     "execution_count": 34,
     "metadata": {},
     "output_type": "execute_result"
    }
   ],
   "source": [
    "model_version = 2\n",
    "new_stage = \"Staging\"\n",
    "client.transition_model_version_stage(\n",
    "    name=model_name,\n",
    "    version=model_version,\n",
    "    stage=new_stage,\n",
    "    archive_existing_versions=False\n",
    ")"
   ]
  },
  {
   "cell_type": "code",
   "execution_count": 35,
   "id": "c00bc2a5-807d-41cc-bc0f-e8712c28cb5f",
   "metadata": {},
   "outputs": [
    {
     "data": {
      "text/plain": [
       "<ModelVersion: creation_timestamp=1660184554770, current_stage='Staging', description='The model version 2 was transitioned to Staging on 2022-08-10', last_updated_timestamp=1660184574846, name='model2', run_id='c04aab12c0ae4c5985025ebbe908ac75', run_link=None, source='./mlruns/5/c04aab12c0ae4c5985025ebbe908ac75/artifacts/models_mlflow', status='READY', status_message=None, tags={}, user_id=None, version=2>"
      ]
     },
     "execution_count": 35,
     "metadata": {},
     "output_type": "execute_result"
    }
   ],
   "source": [
    "model_version = 2\n",
    "date = datetime.today().date()\n",
    "client.update_model_version(\n",
    "    name=model_name,\n",
    "    version=model_version,\n",
    "    description=f\"The model version {model_version} was transitioned to {new_stage} on {date}\"\n",
    ")"
   ]
  },
  {
   "cell_type": "code",
   "execution_count": 36,
   "id": "3ca4fd24-a59e-4aca-8468-0174923451d9",
   "metadata": {},
   "outputs": [],
   "source": [
    "def read_data(filepath):\n",
    "\n",
    "    df = pd.read_csv(filepath)\n",
    "\n",
    "    df.drop(['nativeCountry'], axis=1, inplace=True)\n",
    "\n",
    "    target = 'incomeTarget'\n",
    "\n",
    "    transformed_target = []\n",
    "\n",
    "    for _, value in df['incomeTarget'].iteritems():\n",
    "        if value == ' <=50K':\n",
    "            transformed_target.append(0)\n",
    "        else:\n",
    "            transformed_target.append(1)\n",
    "    df['incomeTarget'] = transformed_target\n",
    "\n",
    "    y = df[target]\n",
    "    X = df.drop('incomeTarget', axis=1, inplace=True)\n",
    "    X = pd.get_dummies(df)\n",
    "\n",
    "    # Upsample using SMOTE\n",
    "    sm = SMOTE(random_state=12)\n",
    "    X_train_sm, y_train_sm = sm.fit_resample(X, y)\n",
    "\n",
    "    df_new = pd.DataFrame(X_train_sm, columns=X.columns)\n",
    "\n",
    "    return df_new, y_train_sm\n",
    "\n",
    "\n",
    "def scale_data(df: pd.DataFrame, scaler: StandardScaler, fit_scaler: bool = False):\n",
    "    if fit_scaler:\n",
    "        X = scaler.fit_transform(df)\n",
    "    X = scaler.transform(df)\n",
    "    return pd.DataFrame(X, columns=df.columns)\n",
    "\n",
    "\n",
    "def preprocess_data(df: pd.DataFrame, dv: DictVectorizer, fit_dv: bool = False):\n",
    "    dicts = df.to_dict(orient='records')\n",
    "\n",
    "    if fit_dv:\n",
    "        df = dv.fit_transform(dicts)\n",
    "    df = dv.transform(dicts)\n",
    "\n",
    "    return df, dv\n",
    "\n",
    "def test_model(name, stage, X_test, y_test):\n",
    "    model = mlflow.pyfunc.load_model(name)\n",
    "    y_pred = model.predict(X_test)\n",
    "    return {\"f1_score\": f1_score(y_test, y_pred)}"
   ]
  },
  {
   "cell_type": "code",
   "execution_count": 37,
   "id": "efd92ac7-96ca-4292-95e5-f19e58629a0c",
   "metadata": {},
   "outputs": [
    {
     "data": {
      "text/plain": [
       "'/home/ovokpus/Income-Prediction-Pipeline/phase-02-experiment-tracking/preprocessor'"
      ]
     },
     "execution_count": 37,
     "metadata": {},
     "output_type": "execute_result"
    }
   ],
   "source": [
    "client.download_artifacts(run_id=run_id, path='preprocessor', dst_path='.')"
   ]
  },
  {
   "cell_type": "code",
   "execution_count": 38,
   "id": "3d7aada2-26d3-4c52-ab80-42e5082c36c7",
   "metadata": {},
   "outputs": [],
   "source": [
    "with open(\"preprocessor/preprocessor.b\", \"rb\") as f_in:\n",
    "    dv = pickle.load(f_in)"
   ]
  },
  {
   "cell_type": "code",
   "execution_count": 39,
   "id": "ece378a7-777e-4ec6-bfb6-a6917993ddc2",
   "metadata": {},
   "outputs": [],
   "source": [
    "X_train, y_train = read_data(\"../data/adult-train.csv\")\n",
    "X_test, y_test = read_data(\"../data/adult-test.csv\")"
   ]
  },
  {
   "cell_type": "code",
   "execution_count": 40,
   "id": "ea838655-5a7c-45e3-bfa9-4832d6229599",
   "metadata": {},
   "outputs": [
    {
     "name": "stdout",
     "output_type": "stream",
     "text": [
      "CPU times: user 183 ms, sys: 0 ns, total: 183 ms\n",
      "Wall time: 63.3 ms\n"
     ]
    },
    {
     "data": {
      "text/plain": [
       "{'f1_score': 0.6725941989699106}"
      ]
     },
     "execution_count": 40,
     "metadata": {},
     "output_type": "execute_result"
    }
   ],
   "source": [
    "%time test_model(name=model_uri, stage=\"Staging\", X_test=X_test, y_test=y_test)"
   ]
  },
  {
   "cell_type": "code",
   "execution_count": 41,
   "id": "3a58a3d0-06ad-4b7b-8277-1da1ec599249",
   "metadata": {},
   "outputs": [
    {
     "data": {
      "text/plain": [
       "<ModelVersion: creation_timestamp=1660184554770, current_stage='Production', description='The model version 2 was transitioned to Staging on 2022-08-10', last_updated_timestamp=1660184680918, name='model2', run_id='c04aab12c0ae4c5985025ebbe908ac75', run_link=None, source='./mlruns/5/c04aab12c0ae4c5985025ebbe908ac75/artifacts/models_mlflow', status='READY', status_message=None, tags={}, user_id=None, version=2>"
      ]
     },
     "execution_count": 41,
     "metadata": {},
     "output_type": "execute_result"
    }
   ],
   "source": [
    "client.transition_model_version_stage(\n",
    "    name=model_name,\n",
    "    version=2,\n",
    "    stage=\"Production\",\n",
    "    archive_existing_versions=True\n",
    ")"
   ]
  },
  {
   "cell_type": "code",
   "execution_count": null,
   "id": "4a9baead-6bbb-4b99-95ab-af9f43e0cafa",
   "metadata": {},
   "outputs": [],
   "source": []
  }
 ],
 "metadata": {
  "kernelspec": {
   "display_name": "Python 3 (ipykernel)",
   "language": "python",
   "name": "python3"
  },
  "language_info": {
   "codemirror_mode": {
    "name": "ipython",
    "version": 3
   },
   "file_extension": ".py",
   "mimetype": "text/x-python",
   "name": "python",
   "nbconvert_exporter": "python",
   "pygments_lexer": "ipython3",
   "version": "3.8.10"
  }
 },
 "nbformat": 4,
 "nbformat_minor": 5
}
