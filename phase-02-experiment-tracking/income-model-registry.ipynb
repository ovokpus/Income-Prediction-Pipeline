{
 "cells": [
  {
   "cell_type": "code",
   "execution_count": 27,
   "id": "22f61fd0-1fde-422d-b99a-44b0cf794871",
   "metadata": {},
   "outputs": [],
   "source": [
    "import mlflow\n",
    "from mlflow.tracking import MlflowClient\n",
    "from mlflow.entities import ViewType\n",
    "from datetime import datetime\n",
    "\n",
    "from sklearn.utils import resample\n",
    "from sklearn.feature_extraction import DictVectorizer\n",
    "from sklearn.preprocessing import StandardScaler\n",
    "from sklearn.metrics import roc_auc_score, log_loss\n",
    "import pandas as pd\n",
    "import numpy as np\n",
    "\n",
    "import pickle\n",
    "import os\n",
    "\n",
    "MLFLOW_TRACKING_URI = \"sqlite:///mlflow.db\"\n",
    "mlflow.set_tracking_uri(MLFLOW_TRACKING_URI)"
   ]
  },
  {
   "cell_type": "code",
   "execution_count": 2,
   "id": "aa707f17-e6d8-42a8-bd95-3aebec9276bf",
   "metadata": {},
   "outputs": [
    {
     "data": {
      "text/plain": [
       "[<Experiment: artifact_location='./mlruns/0', experiment_id='0', lifecycle_stage='active', name='Default', tags={}>,\n",
       " <Experiment: artifact_location='./mlruns/4', experiment_id='4', lifecycle_stage='active', name='prediction-001', tags={}>,\n",
       " <Experiment: artifact_location='./mlruns/5', experiment_id='5', lifecycle_stage='active', name='prediction-002', tags={}>,\n",
       " <Experiment: artifact_location='./mlruns/6', experiment_id='6', lifecycle_stage='active', name='prediction-003', tags={}>,\n",
       " <Experiment: artifact_location='./mlruns/7', experiment_id='7', lifecycle_stage='active', name='prediction-004', tags={}>,\n",
       " <Experiment: artifact_location='./mlruns/8', experiment_id='8', lifecycle_stage='active', name='prediction-005', tags={}>,\n",
       " <Experiment: artifact_location='./mlruns/9', experiment_id='9', lifecycle_stage='active', name='prediction-006', tags={}>,\n",
       " <Experiment: artifact_location='./mlruns/10', experiment_id='10', lifecycle_stage='active', name='prediction-007', tags={}>]"
      ]
     },
     "execution_count": 2,
     "metadata": {},
     "output_type": "execute_result"
    }
   ],
   "source": [
    "client = MlflowClient(tracking_uri=MLFLOW_TRACKING_URI)\n",
    "\n",
    "client.list_experiments()"
   ]
  },
  {
   "cell_type": "code",
   "execution_count": 3,
   "id": "0507a8bf-4331-44d4-acd2-537b072f3dec",
   "metadata": {},
   "outputs": [
    {
     "data": {
      "text/plain": [
       "'11'"
      ]
     },
     "execution_count": 3,
     "metadata": {},
     "output_type": "execute_result"
    }
   ],
   "source": [
    "client.create_experiment(name=\"model-registry\")"
   ]
  },
  {
   "cell_type": "code",
   "execution_count": 6,
   "id": "5fd553d3-9818-4b30-878e-423efa665971",
   "metadata": {},
   "outputs": [],
   "source": [
    "runs = client.search_runs(\n",
    "    experiment_ids='10', # nyc_taxi_experiment\n",
    "    filter_string=\"metrics.loss_metric < 0.16\",\n",
    "    run_view_type=ViewType.ACTIVE_ONLY,\n",
    "    max_results=10,\n",
    "    order_by=[\"metrics.loss_metric ASC\"]\n",
    ")"
   ]
  },
  {
   "cell_type": "code",
   "execution_count": 7,
   "id": "5aafc709-cee9-44f8-b671-0b5d167a118f",
   "metadata": {},
   "outputs": [
    {
     "data": {
      "text/plain": [
       "'0a274d15c1e74c49be45d3a16c36f827'"
      ]
     },
     "execution_count": 7,
     "metadata": {},
     "output_type": "execute_result"
    }
   ],
   "source": [
    "runs[0].info.run_id"
   ]
  },
  {
   "cell_type": "code",
   "execution_count": 8,
   "id": "e8e63928-0fe9-489e-8d0c-4cbb5215e786",
   "metadata": {},
   "outputs": [
    {
     "name": "stdout",
     "output_type": "stream",
     "text": [
      "run id: 0a274d15c1e74c49be45d3a16c36f827, loss_metric: 0.1500\n",
      "run id: 33493216395247d996488244771aa528, loss_metric: 0.1500\n",
      "run id: 7f42d99424c042bcb7ba0263be10c868, loss_metric: 0.1502\n",
      "run id: d9ee1514fc6a49ce92025acfbb7ce8c9, loss_metric: 0.1503\n",
      "run id: 91d846959a3d45638de633390dcc90d9, loss_metric: 0.1503\n",
      "run id: 89e02dd7dab84d179bde271a10c3b127, loss_metric: 0.1506\n",
      "run id: 17d02df59ee34841851d98322d39df23, loss_metric: 0.1507\n",
      "run id: ae336b5df8774658903458d5c93b26e9, loss_metric: 0.1507\n",
      "run id: e006bcec05c74923b0bd453518367a18, loss_metric: 0.1507\n",
      "run id: d342925c35db4bf48d8c3dda32778239, loss_metric: 0.1508\n"
     ]
    }
   ],
   "source": [
    "for run in runs:\n",
    "    print(f\"run id: {run.info.run_id}, loss_metric: {run.data.metrics['loss_metric']:.4f}\")"
   ]
  },
  {
   "cell_type": "code",
   "execution_count": 9,
   "id": "910dbfc0-6fa1-4a4b-b911-25bae0b8e165",
   "metadata": {},
   "outputs": [
    {
     "data": {
      "text/plain": [
       "{'colsample_bytree': '0.53',\n",
       " 'gamma': '0.33',\n",
       " 'learning_rate': '0.23',\n",
       " 'max_depth': '5.9',\n",
       " 'min_child_weight': '1.6',\n",
       " 'n_estimators': '45',\n",
       " 'subsample': '0.93',\n",
       " 'seed': '42'}"
      ]
     },
     "execution_count": 9,
     "metadata": {},
     "output_type": "execute_result"
    }
   ],
   "source": [
    "runs[0].data.params"
   ]
  },
  {
   "cell_type": "code",
   "execution_count": 10,
   "id": "b1e15e86-e4ab-4e58-a662-7753564b51ab",
   "metadata": {},
   "outputs": [],
   "source": [
    "run_id = \"0a274d15c1e74c49be45d3a16c36f827\"\n",
    "model_uri = f\"runs:/{run_id}/model\""
   ]
  },
  {
   "cell_type": "code",
   "execution_count": 11,
   "id": "d35e68c0-db05-409a-b610-9eb07158842f",
   "metadata": {},
   "outputs": [
    {
     "name": "stderr",
     "output_type": "stream",
     "text": [
      "Registered model 'income-prediction' already exists. Creating a new version of this model...\n",
      "2022/08/09 22:16:18 INFO mlflow.tracking._model_registry.client: Waiting up to 300 seconds for model version to finish creation.                     Model name: income-prediction, version 2\n",
      "Created version '2' of model 'income-prediction'.\n"
     ]
    },
    {
     "data": {
      "text/plain": [
       "<ModelVersion: creation_timestamp=1660104978404, current_stage='None', description=None, last_updated_timestamp=1660104978404, name='income-prediction', run_id='0a274d15c1e74c49be45d3a16c36f827', run_link=None, source='./mlruns/10/0a274d15c1e74c49be45d3a16c36f827/artifacts/model', status='READY', status_message=None, tags={}, user_id=None, version=2>"
      ]
     },
     "execution_count": 11,
     "metadata": {},
     "output_type": "execute_result"
    }
   ],
   "source": [
    "mlflow.register_model(model_uri=model_uri, name=\"income-prediction\")"
   ]
  },
  {
   "cell_type": "code",
   "execution_count": 12,
   "id": "97931af2-67ff-4ad5-8c79-6dc6d0d11bd0",
   "metadata": {},
   "outputs": [
    {
     "data": {
      "text/plain": [
       "'runs:/0a274d15c1e74c49be45d3a16c36f827/model'"
      ]
     },
     "execution_count": 12,
     "metadata": {},
     "output_type": "execute_result"
    }
   ],
   "source": [
    "model_uri"
   ]
  },
  {
   "cell_type": "markdown",
   "id": "3b2e1b80-8a4b-4bb6-8e0c-a82d26b6c7b1",
   "metadata": {},
   "source": [
    "## Transitioning a model"
   ]
  },
  {
   "cell_type": "code",
   "execution_count": 13,
   "id": "2d21752f-9b33-4d36-8180-0702fbc8b440",
   "metadata": {},
   "outputs": [
    {
     "name": "stdout",
     "output_type": "stream",
     "text": [
      "version: 1, stage: Staging\n",
      "version: 2, stage: None\n"
     ]
    }
   ],
   "source": [
    "model_name = \"income-prediction\"\n",
    "latest_versions = client.get_latest_versions(name=model_name)\n",
    "\n",
    "for version in latest_versions:\n",
    "    print(f\"version: {version.version}, stage: {version.current_stage}\")"
   ]
  },
  {
   "cell_type": "code",
   "execution_count": 17,
   "id": "b0cf9144-1ebb-4523-a64a-7c080365d40a",
   "metadata": {},
   "outputs": [
    {
     "data": {
      "text/plain": [
       "<ModelVersion: creation_timestamp=1660104978404, current_stage='Staging', description=None, last_updated_timestamp=1660105109022, name='income-prediction', run_id='0a274d15c1e74c49be45d3a16c36f827', run_link=None, source='./mlruns/10/0a274d15c1e74c49be45d3a16c36f827/artifacts/model', status='READY', status_message=None, tags={}, user_id=None, version=2>"
      ]
     },
     "execution_count": 17,
     "metadata": {},
     "output_type": "execute_result"
    }
   ],
   "source": [
    "model_version = 2\n",
    "new_stage = \"Staging\"\n",
    "client.transition_model_version_stage(\n",
    "    name=model_name,\n",
    "    version=model_version,\n",
    "    stage=new_stage,\n",
    "    archive_existing_versions=False\n",
    ")"
   ]
  },
  {
   "cell_type": "code",
   "execution_count": 18,
   "id": "c00bc2a5-807d-41cc-bc0f-e8712c28cb5f",
   "metadata": {},
   "outputs": [
    {
     "data": {
      "text/plain": [
       "<ModelVersion: creation_timestamp=1660104978404, current_stage='Staging', description='The model version 2 was transitioned to Staging on 2022-08-09', last_updated_timestamp=1660105123835, name='income-prediction', run_id='0a274d15c1e74c49be45d3a16c36f827', run_link=None, source='./mlruns/10/0a274d15c1e74c49be45d3a16c36f827/artifacts/model', status='READY', status_message=None, tags={}, user_id=None, version=2>"
      ]
     },
     "execution_count": 18,
     "metadata": {},
     "output_type": "execute_result"
    }
   ],
   "source": [
    "model_version = 2\n",
    "date = datetime.today().date()\n",
    "client.update_model_version(\n",
    "    name=model_name,\n",
    "    version=model_version,\n",
    "    description=f\"The model version {model_version} was transitioned to {new_stage} on {date}\"\n",
    ")"
   ]
  },
  {
   "cell_type": "code",
   "execution_count": 19,
   "id": "3ca4fd24-a59e-4aca-8468-0174923451d9",
   "metadata": {},
   "outputs": [],
   "source": [
    "def read_data(filepath):\n",
    "    columns = ['age', 'workClass', 'financialWeight', 'education', 'educationNum', 'maritalStatus', 'occupation',\n",
    "               'relationship', 'race', 'sex', 'capitalGain', 'capitalLoss', 'hoursPerWeek', 'nativeCountry', 'incomeTarget']\n",
    "\n",
    "    target = 'incomeTarget'\n",
    "\n",
    "    df = pd.read_csv(filepath, names=columns)\n",
    "    transformed_target = []\n",
    "\n",
    "    for _, value in df['incomeTarget'].iteritems():\n",
    "        if value == ' <=50K':\n",
    "            transformed_target.append(0)\n",
    "        else:\n",
    "            transformed_target.append(1)\n",
    "    df['incomeTarget'] = transformed_target\n",
    "\n",
    "    df.drop('nativeCountry', axis=1, inplace=True)\n",
    "\n",
    "    y = df[target]\n",
    "    X = df.drop('incomeTarget', axis=1, inplace=True)\n",
    "    X = pd.get_dummies(df)\n",
    "\n",
    "    # Upsampling\n",
    "    X_upsampled, y_upsampled = resample(X[y == 1],\n",
    "                                        y[y == 1],\n",
    "                                        replace=True,\n",
    "                                        n_samples=X[y == 0].shape[0],\n",
    "                                        random_state=1)\n",
    "\n",
    "    X_upsampled = np.concatenate((X[y == 0], X_upsampled))\n",
    "    y_upsampled = np.concatenate((y[y == 0], y_upsampled))\n",
    "\n",
    "    df_new = pd.DataFrame(X_upsampled, columns=X.columns)\n",
    "\n",
    "    return df_new, y_upsampled\n",
    "\n",
    "\n",
    "def scale_data(df: pd.DataFrame, scaler: StandardScaler, fit_scaler: bool = False):\n",
    "    if fit_scaler:\n",
    "        X = scaler.fit_transform(df)\n",
    "    X = scaler.transform(df)\n",
    "    return pd.DataFrame(X, columns=df.columns)\n",
    "\n",
    "\n",
    "def preprocess_data(df: pd.DataFrame, dv: DictVectorizer, fit_dv: bool = False):\n",
    "    dicts = df.to_dict(orient='records')\n",
    "\n",
    "    if fit_dv:\n",
    "        df = dv.fit_transform(dicts)\n",
    "    df = dv.transform(dicts)\n",
    "\n",
    "    return df, dv\n",
    "\n",
    "def test_model(name, stage, X_test, y_test):\n",
    "    model = mlflow.pyfunc.load_model(f\"models:/{name}/{stage}\")\n",
    "    y_pred = model.predict(X_test)\n",
    "    return {\"auc\": auc(y_test, y_pred)}"
   ]
  },
  {
   "cell_type": "code",
   "execution_count": 25,
   "id": "5af64a1d-00a5-4343-981e-4d81321a2b83",
   "metadata": {},
   "outputs": [],
   "source": []
  },
  {
   "cell_type": "code",
   "execution_count": 21,
   "id": "efd92ac7-96ca-4292-95e5-f19e58629a0c",
   "metadata": {},
   "outputs": [
    {
     "data": {
      "text/plain": [
       "'/home/ovokpus/Income-Prediction-Pipeline/phase-02-experiment-tracking/preprocessor'"
      ]
     },
     "execution_count": 21,
     "metadata": {},
     "output_type": "execute_result"
    }
   ],
   "source": [
    "client.download_artifacts(run_id=run_id, path='preprocessor', dst_path='.')"
   ]
  },
  {
   "cell_type": "code",
   "execution_count": 23,
   "id": "3d7aada2-26d3-4c52-ab80-42e5082c36c7",
   "metadata": {},
   "outputs": [],
   "source": [
    "with open(\"preprocessor/preprocessor.b\", \"rb\") as f_in:\n",
    "    dv = pickle.load(f_in)"
   ]
  },
  {
   "cell_type": "code",
   "execution_count": 28,
   "id": "ece378a7-777e-4ec6-bfb6-a6917993ddc2",
   "metadata": {},
   "outputs": [
    {
     "ename": "NameError",
     "evalue": "name 'raw_data_path' is not defined",
     "output_type": "error",
     "traceback": [
      "\u001b[0;31m---------------------------------------------------------------------------\u001b[0m",
      "\u001b[0;31mNameError\u001b[0m                                 Traceback (most recent call last)",
      "Input \u001b[0;32mIn [28]\u001b[0m, in \u001b[0;36m<cell line: 1>\u001b[0;34m()\u001b[0m\n\u001b[1;32m      1\u001b[0m X_train, y_train \u001b[38;5;241m=\u001b[39m read_data(\n\u001b[0;32m----> 2\u001b[0m         os\u001b[38;5;241m.\u001b[39mpath\u001b[38;5;241m.\u001b[39mjoin(\u001b[43mraw_data_path\u001b[49m, \u001b[38;5;124m'\u001b[39m\u001b[38;5;124madult-train.csv\u001b[39m\u001b[38;5;124m'\u001b[39m))\n\u001b[1;32m      3\u001b[0m X_val, y_val \u001b[38;5;241m=\u001b[39m read_data(os\u001b[38;5;241m.\u001b[39mpath\u001b[38;5;241m.\u001b[39mjoin(raw_data_path, \u001b[38;5;124m'\u001b[39m\u001b[38;5;124madult-test.csv\u001b[39m\u001b[38;5;124m'\u001b[39m))\n\u001b[1;32m      5\u001b[0m \u001b[38;5;66;03m# scale the data\u001b[39;00m\n",
      "\u001b[0;31mNameError\u001b[0m: name 'raw_data_path' is not defined"
     ]
    }
   ],
   "source": [
    "X_train, y_train = read_data(os.path.join(raw_data_path, 'adult-train.csv'))\n",
    "X_val, y_val = read_data(os.path.join(raw_data_path, 'adult-test.csv'))"
   ]
  },
  {
   "cell_type": "code",
   "execution_count": null,
   "id": "b61f9900-b165-4429-a09b-1ec0db5b875a",
   "metadata": {},
   "outputs": [],
   "source": []
  }
 ],
 "metadata": {
  "kernelspec": {
   "display_name": "Python 3 (ipykernel)",
   "language": "python",
   "name": "python3"
  },
  "language_info": {
   "codemirror_mode": {
    "name": "ipython",
    "version": 3
   },
   "file_extension": ".py",
   "mimetype": "text/x-python",
   "name": "python",
   "nbconvert_exporter": "python",
   "pygments_lexer": "ipython3",
   "version": "3.8.10"
  }
 },
 "nbformat": 4,
 "nbformat_minor": 5
}
