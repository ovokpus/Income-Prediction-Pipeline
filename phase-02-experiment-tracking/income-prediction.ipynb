{
 "cells": [
  {
   "cell_type": "code",
   "execution_count": 12,
   "id": "980b6cb9-e6c8-40ef-9874-0414d8e68663",
   "metadata": {},
   "outputs": [],
   "source": [
    "import numpy as np\n",
    "import pandas as pd\n",
    "import matplotlib.pyplot as plt\n",
    "import seaborn as sns\n",
    "\n",
    "from sklearn.preprocessing import StandardScaler\n",
    "from sklearn.model_selection import train_test_split, cross_val_score\n",
    "\n",
    "from sklearn.utils import resample\n",
    "from imblearn.over_sampling import SMOTE\n",
    "\n",
    "from sklearn.feature_extraction import DictVectorizer\n",
    "from sklearn.linear_model import LogisticRegression\n",
    "\n",
    "\n",
    "from sklearn.metrics import classification_report, confusion_matrix, roc_auc_score, accuracy_score, roc_curve, f1_score\n",
    "\n",
    "import random\n",
    "import pickle\n",
    "import os\n",
    "\n",
    "%matplotlib inline"
   ]
  },
  {
   "cell_type": "code",
   "execution_count": 2,
   "id": "2b1a78c6-af15-4292-826b-14b1d0b748c4",
   "metadata": {},
   "outputs": [
    {
     "name": "stderr",
     "output_type": "stream",
     "text": [
      "2022/08/08 17:42:48 INFO mlflow.tracking.fluent: Experiment with name 'income-prediction-01' does not exist. Creating a new experiment.\n"
     ]
    },
    {
     "data": {
      "text/plain": [
       "<Experiment: artifact_location='./mlruns/1', experiment_id='1', lifecycle_stage='active', name='income-prediction-01', tags={}>"
      ]
     },
     "execution_count": 2,
     "metadata": {},
     "output_type": "execute_result"
    }
   ],
   "source": [
    "import mlflow\n",
    "\n",
    "mlflow.set_tracking_uri(\"sqlite:///mlflow.db\")\n",
    "mlflow.set_experiment(\"income-prediction-01\")"
   ]
  },
  {
   "cell_type": "code",
   "execution_count": 3,
   "id": "f9ed68db-e3a8-45ab-b9c1-abcea5b590b9",
   "metadata": {},
   "outputs": [],
   "source": [
    "def process_dataframe(filepath):\n",
    "    columns = ['age', 'workClass', 'financialWeight', 'education', 'educationNum', 'maritalStatus', 'occupation',\n",
    "          'relationship', 'race', 'sex', 'capitalGain', 'capitalLoss', 'hoursPerWeek', 'nativeCountry', 'incomeTarget']\n",
    "    \n",
    "    target = 'incomeTarget'\n",
    "\n",
    "    df = pd.read_csv(filepath, names=columns)\n",
    "\n",
    "    transformed_target = []\n",
    "\n",
    "    for _, value in df['incomeTarget'].iteritems():\n",
    "        if value == ' <=50K':\n",
    "            transformed_target.append(0)\n",
    "        else:\n",
    "            transformed_target.append(1)\n",
    "    df['incomeTarget'] = transformed_target\n",
    "\n",
    "    df.drop('nativeCountry', axis=1, inplace=True)\n",
    "    \n",
    "    y = df[target]\n",
    "    X = df.drop('incomeTarget', axis=1, inplace=True)\n",
    "    X = pd.get_dummies(df)\n",
    "    \n",
    "    # Upsampling\n",
    "    X_upsampled, y_upsampled = resample(X[y == 1],\n",
    "                                   y[y == 1],\n",
    "                                   replace=True,\n",
    "                                   n_samples=X[y == 0].shape[0],\n",
    "                                   random_state=1)\n",
    "\n",
    "    X_upsampled = np.concatenate((X[y == 0], X_upsampled))\n",
    "    y_upsampled = np.concatenate((y[y == 0], y_upsampled))\n",
    "\n",
    "    \n",
    "    df_new = pd.DataFrame(X_upsampled, columns=X.columns)\n",
    "    \n",
    "    return df_new, y_upsampled"
   ]
  },
  {
   "cell_type": "code",
   "execution_count": 4,
   "id": "09a2dafe-fd98-4dd7-86f5-62ed42db9f81",
   "metadata": {},
   "outputs": [
    {
     "data": {
      "text/plain": [
       "(49440, 49440, 24870, 24870)"
      ]
     },
     "execution_count": 4,
     "metadata": {},
     "output_type": "execute_result"
    }
   ],
   "source": [
    "X_train, y_train = process_dataframe('../data/adult-train.csv')\n",
    "X_val, y_val = process_dataframe('../data/adult-test.csv')\n",
    "\n",
    "len(X_train), len(y_train), len(X_val), len(y_val)"
   ]
  },
  {
   "cell_type": "code",
   "execution_count": 5,
   "id": "351e99c9-5f57-41d7-97f6-96b002daa3e1",
   "metadata": {},
   "outputs": [],
   "source": [
    "scaler = StandardScaler()\n",
    "X_train_scaled = scaler.fit_transform(X_train)\n",
    "X_train_df = pd.DataFrame(X_train_scaled, columns = X_train.columns)\n",
    "\n",
    "X_val_scaled = scaler.transform(X_val)\n",
    "X_val_df = pd.DataFrame(X_val_scaled, columns = X_val.columns)"
   ]
  },
  {
   "cell_type": "code",
   "execution_count": 6,
   "id": "53d4abb7-3ad9-450b-9654-ef6a491b7ee0",
   "metadata": {},
   "outputs": [],
   "source": [
    "dv = DictVectorizer()\n",
    "\n",
    "train_dicts = X_train.to_dict(orient='records')\n",
    "X_train = dv.fit_transform(train_dicts)\n",
    "\n",
    "val_dicts = X_val.to_dict(orient='records')\n",
    "X_val = dv.transform(val_dicts)"
   ]
  },
  {
   "cell_type": "code",
   "execution_count": 7,
   "id": "b1dbff7a-d138-4376-988b-5763def73aef",
   "metadata": {},
   "outputs": [],
   "source": [
    "logreg = LogisticRegression()\n",
    "logreg.fit(X_train, y_train)\n",
    "\n",
    "y_pred = logreg.predict(X_val)"
   ]
  },
  {
   "cell_type": "code",
   "execution_count": 13,
   "id": "16a80f99-f3a6-4683-8327-5134b70758bd",
   "metadata": {},
   "outputs": [],
   "source": [
    "os.makedirs('models/', exist_ok=True)\n",
    "\n",
    "with open('models/logreg.bin', 'wb') as f_out:\n",
    "    pickle.dump((dv, logreg), f_out)"
   ]
  },
  {
   "cell_type": "code",
   "execution_count": 16,
   "id": "2352c610-11d2-46b2-b2f0-bced9c284dce",
   "metadata": {},
   "outputs": [],
   "source": [
    "with mlflow.start_run():\n",
    "    mlflow.set_tag(\"developer\", \"enchristos\")\n",
    "    \n",
    "    mlflow.log_param(\"train-data-path\", \"../data/adult-train.csv\")\n",
    "    mlflow.log_param(\"valid-data-path\", \"../data/adult-test.csv\")\n",
    "    \n",
    "    max_iter = 500\n",
    "    mlflow.log_param(\"max_iter\", max_iter)\n",
    "    logreg = LogisticRegression(max_iter=max_iter)\n",
    "    logreg.fit(X_train, y_train)\n",
    "    \n",
    "    y_pred = logreg.predict(X_val)\n",
    "    auc = roc_auc_score(y_val, y_pred)\n",
    "    f1 = f1_score(y_val, y_pred)\n",
    "    mlflow.log_metric(\"auc\", auc)\n",
    "    mlflow.log_metric(\"fi_score\", f1)\n",
    "    \n",
    "    mlflow.log_artifact(local_path=\"models/logreg.bin\", artifact_path=\"models_pickle\")"
   ]
  },
  {
   "cell_type": "code",
   "execution_count": null,
   "id": "7df8bd51-7f02-4791-8b97-29be658dff8c",
   "metadata": {},
   "outputs": [],
   "source": []
  }
 ],
 "metadata": {
  "kernelspec": {
   "display_name": "Python 3 (ipykernel)",
   "language": "python",
   "name": "python3"
  },
  "language_info": {
   "codemirror_mode": {
    "name": "ipython",
    "version": 3
   },
   "file_extension": ".py",
   "mimetype": "text/x-python",
   "name": "python",
   "nbconvert_exporter": "python",
   "pygments_lexer": "ipython3",
   "version": "3.8.10"
  }
 },
 "nbformat": 4,
 "nbformat_minor": 5
}
