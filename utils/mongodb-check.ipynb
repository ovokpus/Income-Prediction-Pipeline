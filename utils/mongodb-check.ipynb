{
 "cells": [
  {
   "cell_type": "code",
   "execution_count": 31,
   "id": "f651a9c3-223c-4851-99c6-779bf8fa0b40",
   "metadata": {},
   "outputs": [],
   "source": [
    "import pymongo"
   ]
  },
  {
   "cell_type": "code",
   "execution_count": 32,
   "id": "6b5422f0-ec6c-4bcd-944e-c8a78d68ae74",
   "metadata": {},
   "outputs": [],
   "source": [
    "client = pymongo.MongoClient('mongodb://10.138.0.5:27017')\n",
    "db = client.get_database('prediction_service')"
   ]
  },
  {
   "cell_type": "code",
   "execution_count": 33,
   "id": "25417610-6d92-4c99-ac74-13e5fca62092",
   "metadata": {},
   "outputs": [],
   "source": [
    "data_collection = db.get_collection(\"data\")"
   ]
  },
  {
   "cell_type": "code",
   "execution_count": null,
   "id": "2a6c3a43-1280-472b-9a50-4bf5f59225b1",
   "metadata": {},
   "outputs": [],
   "source": [
    "data = list(data_collection.find())[0]"
   ]
  },
  {
   "cell_type": "code",
   "execution_count": null,
   "id": "3c470382-1b96-44a9-8c38-0e18954e7dc1",
   "metadata": {},
   "outputs": [],
   "source": [
    "data[0]"
   ]
  },
  {
   "cell_type": "code",
   "execution_count": null,
   "id": "1571dbe6-3cf6-436e-8388-f1e8f89652b8",
   "metadata": {},
   "outputs": [],
   "source": [
    "len(data)"
   ]
  },
  {
   "cell_type": "code",
   "execution_count": null,
   "id": "4338a3b2-6185-45cc-9dee-3f224dd1f1bf",
   "metadata": {},
   "outputs": [],
   "source": [
    "report_collection = db.get_collection(\"report\")\n",
    "reports = list(report_collection.find())"
   ]
  },
  {
   "cell_type": "code",
   "execution_count": null,
   "id": "86ea4e4b",
   "metadata": {},
   "outputs": [],
   "source": [
    "reports[0]"
   ]
  },
  {
   "cell_type": "code",
   "execution_count": null,
   "id": "3164d803-73c5-4921-8796-4833b12bf4d7",
   "metadata": {},
   "outputs": [],
   "source": []
  }
 ],
 "metadata": {
  "kernelspec": {
   "display_name": "Python 3 (ipykernel)",
   "language": "python",
   "name": "python3"
  },
  "language_info": {
   "codemirror_mode": {
    "name": "ipython",
    "version": 3
   },
   "file_extension": ".py",
   "mimetype": "text/x-python",
   "name": "python",
   "nbconvert_exporter": "python",
   "pygments_lexer": "ipython3",
   "version": "3.8.10"
  },
  "vscode": {
   "interpreter": {
    "hash": "916dbcbb3f70747c44a77c7bcd40155683ae19c65e1c03b4aa3499c5328201f1"
   }
  }
 },
 "nbformat": 4,
 "nbformat_minor": 5
}
